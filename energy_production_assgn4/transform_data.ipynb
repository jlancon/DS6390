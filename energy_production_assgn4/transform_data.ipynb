{
 "cells": [
  {
   "cell_type": "code",
   "execution_count": 1,
   "metadata": {
    "collapsed": true
   },
   "outputs": [],
   "source": [
    "import pandas as pd\n",
    "import numpy as np\n",
    "import json \n",
    "import re"
   ]
  },
  {
   "cell_type": "code",
   "execution_count": 2,
   "metadata": {},
   "outputs": [
    {
     "name": "stdout",
     "output_type": "stream",
     "text": [
      "Untitled.ipynb               load_data.pde\r\n",
      "\u001b[34mdata\u001b[m\u001b[m                         placement_functions.pde\r\n",
      "energy_production_assgn4.pde state_class.pde\r\n"
     ]
    }
   ],
   "source": [
    "!ls"
   ]
  },
  {
   "cell_type": "code",
   "execution_count": 93,
   "metadata": {},
   "outputs": [
    {
     "data": {
      "text/html": [
       "<div>\n",
       "<style>\n",
       "    .dataframe thead tr:only-child th {\n",
       "        text-align: right;\n",
       "    }\n",
       "\n",
       "    .dataframe thead th {\n",
       "        text-align: left;\n",
       "    }\n",
       "\n",
       "    .dataframe tbody tr th {\n",
       "        vertical-align: top;\n",
       "    }\n",
       "</style>\n",
       "<table border=\"1\" class=\"dataframe\">\n",
       "  <thead>\n",
       "    <tr style=\"text-align: right;\">\n",
       "      <th></th>\n",
       "      <th>year</th>\n",
       "      <th>state</th>\n",
       "      <th>type_of_producer</th>\n",
       "      <th>energy_source</th>\n",
       "      <th>generation_(megawatthours)</th>\n",
       "    </tr>\n",
       "  </thead>\n",
       "  <tbody>\n",
       "    <tr>\n",
       "      <th>0</th>\n",
       "      <td>1990</td>\n",
       "      <td>AK</td>\n",
       "      <td>Total Electric Power Industry</td>\n",
       "      <td>Total</td>\n",
       "      <td>5,599,506</td>\n",
       "    </tr>\n",
       "    <tr>\n",
       "      <th>1</th>\n",
       "      <td>1990</td>\n",
       "      <td>AK</td>\n",
       "      <td>Total Electric Power Industry</td>\n",
       "      <td>Coal</td>\n",
       "      <td>510,573</td>\n",
       "    </tr>\n",
       "    <tr>\n",
       "      <th>2</th>\n",
       "      <td>1990</td>\n",
       "      <td>AK</td>\n",
       "      <td>Total Electric Power Industry</td>\n",
       "      <td>Hydroelectric Conventional</td>\n",
       "      <td>974,521</td>\n",
       "    </tr>\n",
       "    <tr>\n",
       "      <th>3</th>\n",
       "      <td>1990</td>\n",
       "      <td>AK</td>\n",
       "      <td>Total Electric Power Industry</td>\n",
       "      <td>Natural Gas</td>\n",
       "      <td>3,466,261</td>\n",
       "    </tr>\n",
       "    <tr>\n",
       "      <th>4</th>\n",
       "      <td>1990</td>\n",
       "      <td>AK</td>\n",
       "      <td>Total Electric Power Industry</td>\n",
       "      <td>Petroleum</td>\n",
       "      <td>497,116</td>\n",
       "    </tr>\n",
       "    <tr>\n",
       "      <th>5</th>\n",
       "      <td>1990</td>\n",
       "      <td>AK</td>\n",
       "      <td>Total Electric Power Industry</td>\n",
       "      <td>Wind</td>\n",
       "      <td>0</td>\n",
       "    </tr>\n",
       "    <tr>\n",
       "      <th>6</th>\n",
       "      <td>1990</td>\n",
       "      <td>AK</td>\n",
       "      <td>Total Electric Power Industry</td>\n",
       "      <td>Wood and Wood Derived Fuels</td>\n",
       "      <td>151,035</td>\n",
       "    </tr>\n",
       "    <tr>\n",
       "      <th>7</th>\n",
       "      <td>1990</td>\n",
       "      <td>AK</td>\n",
       "      <td>Electric Generators, Electric Utilities</td>\n",
       "      <td>Total</td>\n",
       "      <td>4,493,024</td>\n",
       "    </tr>\n",
       "    <tr>\n",
       "      <th>8</th>\n",
       "      <td>1990</td>\n",
       "      <td>AK</td>\n",
       "      <td>Electric Generators, Electric Utilities</td>\n",
       "      <td>Coal</td>\n",
       "      <td>311,960</td>\n",
       "    </tr>\n",
       "    <tr>\n",
       "      <th>9</th>\n",
       "      <td>1990</td>\n",
       "      <td>AK</td>\n",
       "      <td>Electric Generators, Electric Utilities</td>\n",
       "      <td>Hydroelectric Conventional</td>\n",
       "      <td>974,521</td>\n",
       "    </tr>\n",
       "    <tr>\n",
       "      <th>10</th>\n",
       "      <td>1990</td>\n",
       "      <td>AK</td>\n",
       "      <td>Electric Generators, Electric Utilities</td>\n",
       "      <td>Natural Gas</td>\n",
       "      <td>2,869,638</td>\n",
       "    </tr>\n",
       "    <tr>\n",
       "      <th>11</th>\n",
       "      <td>1990</td>\n",
       "      <td>AK</td>\n",
       "      <td>Electric Generators, Electric Utilities</td>\n",
       "      <td>Petroleum</td>\n",
       "      <td>336,905</td>\n",
       "    </tr>\n",
       "    <tr>\n",
       "      <th>12</th>\n",
       "      <td>1990</td>\n",
       "      <td>AK</td>\n",
       "      <td>Electric Generators, Electric Utilities</td>\n",
       "      <td>Wind</td>\n",
       "      <td>0</td>\n",
       "    </tr>\n",
       "    <tr>\n",
       "      <th>13</th>\n",
       "      <td>1990</td>\n",
       "      <td>AK</td>\n",
       "      <td>Combined Heat and Power, Industrial Power</td>\n",
       "      <td>Total</td>\n",
       "      <td>840,949</td>\n",
       "    </tr>\n",
       "    <tr>\n",
       "      <th>14</th>\n",
       "      <td>1990</td>\n",
       "      <td>AK</td>\n",
       "      <td>Combined Heat and Power, Industrial Power</td>\n",
       "      <td>Natural Gas</td>\n",
       "      <td>596,623</td>\n",
       "    </tr>\n",
       "    <tr>\n",
       "      <th>15</th>\n",
       "      <td>1990</td>\n",
       "      <td>AK</td>\n",
       "      <td>Combined Heat and Power, Industrial Power</td>\n",
       "      <td>Petroleum</td>\n",
       "      <td>93,291</td>\n",
       "    </tr>\n",
       "    <tr>\n",
       "      <th>16</th>\n",
       "      <td>1990</td>\n",
       "      <td>AK</td>\n",
       "      <td>Combined Heat and Power, Industrial Power</td>\n",
       "      <td>Wood and Wood Derived Fuels</td>\n",
       "      <td>151,035</td>\n",
       "    </tr>\n",
       "    <tr>\n",
       "      <th>17</th>\n",
       "      <td>1990</td>\n",
       "      <td>AK</td>\n",
       "      <td>Combined Heat and Power, Commercial Power</td>\n",
       "      <td>Total</td>\n",
       "      <td>265,533</td>\n",
       "    </tr>\n",
       "    <tr>\n",
       "      <th>18</th>\n",
       "      <td>1990</td>\n",
       "      <td>AK</td>\n",
       "      <td>Combined Heat and Power, Commercial Power</td>\n",
       "      <td>Coal</td>\n",
       "      <td>198,613</td>\n",
       "    </tr>\n",
       "    <tr>\n",
       "      <th>19</th>\n",
       "      <td>1990</td>\n",
       "      <td>AK</td>\n",
       "      <td>Combined Heat and Power, Commercial Power</td>\n",
       "      <td>Petroleum</td>\n",
       "      <td>66,920</td>\n",
       "    </tr>\n",
       "  </tbody>\n",
       "</table>\n",
       "</div>"
      ],
      "text/plain": [
       "    year state                           type_of_producer  \\\n",
       "0   1990    AK              Total Electric Power Industry   \n",
       "1   1990    AK              Total Electric Power Industry   \n",
       "2   1990    AK              Total Electric Power Industry   \n",
       "3   1990    AK              Total Electric Power Industry   \n",
       "4   1990    AK              Total Electric Power Industry   \n",
       "5   1990    AK              Total Electric Power Industry   \n",
       "6   1990    AK              Total Electric Power Industry   \n",
       "7   1990    AK    Electric Generators, Electric Utilities   \n",
       "8   1990    AK    Electric Generators, Electric Utilities   \n",
       "9   1990    AK    Electric Generators, Electric Utilities   \n",
       "10  1990    AK    Electric Generators, Electric Utilities   \n",
       "11  1990    AK    Electric Generators, Electric Utilities   \n",
       "12  1990    AK    Electric Generators, Electric Utilities   \n",
       "13  1990    AK  Combined Heat and Power, Industrial Power   \n",
       "14  1990    AK  Combined Heat and Power, Industrial Power   \n",
       "15  1990    AK  Combined Heat and Power, Industrial Power   \n",
       "16  1990    AK  Combined Heat and Power, Industrial Power   \n",
       "17  1990    AK  Combined Heat and Power, Commercial Power   \n",
       "18  1990    AK  Combined Heat and Power, Commercial Power   \n",
       "19  1990    AK  Combined Heat and Power, Commercial Power   \n",
       "\n",
       "                  energy_source generation_(megawatthours)  \n",
       "0                         Total                  5,599,506  \n",
       "1                          Coal                    510,573  \n",
       "2    Hydroelectric Conventional                    974,521  \n",
       "3                   Natural Gas                  3,466,261  \n",
       "4                     Petroleum                    497,116  \n",
       "5                          Wind                          0  \n",
       "6   Wood and Wood Derived Fuels                    151,035  \n",
       "7                         Total                  4,493,024  \n",
       "8                          Coal                    311,960  \n",
       "9    Hydroelectric Conventional                    974,521  \n",
       "10                  Natural Gas                  2,869,638  \n",
       "11                    Petroleum                    336,905  \n",
       "12                         Wind                          0  \n",
       "13                        Total                    840,949  \n",
       "14                  Natural Gas                    596,623  \n",
       "15                    Petroleum                     93,291  \n",
       "16  Wood and Wood Derived Fuels                    151,035  \n",
       "17                        Total                    265,533  \n",
       "18                         Coal                    198,613  \n",
       "19                    Petroleum                     66,920  "
      ]
     },
     "execution_count": 93,
     "metadata": {},
     "output_type": "execute_result"
    }
   ],
   "source": [
    "df = pd.read_csv(\"../annual_generation_state.csv\")\n",
    "df.columns = ['_'.join([i.lower() for i in x.split()]) for x in df.columns]\n",
    "df = df.iloc[:,:5]\n",
    "df.head(20)"
   ]
  },
  {
   "cell_type": "code",
   "execution_count": 136,
   "metadata": {},
   "outputs": [
    {
     "data": {
      "text/plain": [
       "0\n",
       "state                  CA\n",
       "year                 1990\n",
       "coal              8111529\n",
       "geothermal       14521254\n",
       "hydroelectric    24778819\n",
       "Name: 1, dtype: object"
      ]
     },
     "execution_count": 136,
     "metadata": {},
     "output_type": "execute_result"
    }
   ],
   "source": [
    "sample = pd.read_csv(\"data/1990_CA.csv\", header=None).set_index(0)[1]\n",
    "sample.head()"
   ]
  },
  {
   "cell_type": "code",
   "execution_count": 95,
   "metadata": {},
   "outputs": [],
   "source": [
    "red_df = \\\n",
    "    df[df['type_of_producer'] == 'Total Electric Power Industry']\\\n",
    "    .drop('type_of_producer', axis=1)"
   ]
  },
  {
   "cell_type": "code",
   "execution_count": 96,
   "metadata": {},
   "outputs": [
    {
     "data": {
      "text/plain": [
       "Total                             7762\n",
       "Natural Gas                       6926\n",
       "Petroleum                         6670\n",
       "Coal                              5144\n",
       "Other Biomass                     4558\n",
       "Hydroelectric Conventional        4251\n",
       "Wood and Wood Derived Fuels       3156\n",
       "Other                             2802\n",
       "Other Gases                       2000\n",
       "Nuclear                           1866\n",
       "Wind                              1840\n",
       "Pumped Storage                    1118\n",
       "Solar Thermal and Photovoltaic    1035\n",
       "Geothermal                         391\n",
       "Name: energy_source, dtype: int64"
      ]
     },
     "execution_count": 96,
     "metadata": {},
     "output_type": "execute_result"
    }
   ],
   "source": [
    "df['energy_source'].value_counts()"
   ]
  },
  {
   "cell_type": "code",
   "execution_count": 97,
   "metadata": {},
   "outputs": [
    {
     "data": {
      "text/plain": [
       "Index(['state', 'CA'], dtype='object')"
      ]
     },
     "execution_count": 97,
     "metadata": {},
     "output_type": "execute_result"
    }
   ],
   "source": [
    "sample.columns"
   ]
  },
  {
   "cell_type": "code",
   "execution_count": 143,
   "metadata": {},
   "outputs": [],
   "source": [
    "all_states = []\n",
    "index = df['energy_source'].unique()\n",
    "for year in red_df['year'].unique():\n",
    "    for state in red_df['state'].unique():\n",
    "        if len(state.strip()) != 2:\n",
    "            continue\n",
    "        state_row = []\n",
    "        row_df = red_df\\\n",
    "                    .query(\"year == {} & state == '{}'\".format(year, state))\\\n",
    "                    .set_index('energy_source')['generation_(megawatthours)']\\\n",
    "                    .to_dict()\n",
    "        for source in index:\n",
    "\n",
    "            try:\n",
    "                row_df[source] = int(re.sub(\"[^0-9.]\", \"\", row_df[source]))\n",
    "            except KeyError:\n",
    "                row_df[source] = 0\n",
    "        state_row.append(state)        \n",
    "        state_row.append(year)\n",
    "        state_row.append(\n",
    "            row_df['Coal']\\\n",
    "            +   row_df['Petroleum']\\\n",
    "            +   row_df['Other']\n",
    "        )\n",
    "        state_row.append(\n",
    "            row_df['Geothermal']\n",
    "        )\n",
    "        state_row.append(\n",
    "            row_df['Hydroelectric Conventional']\\\n",
    "            +   row_df['Pumped Storage']\n",
    "        )\n",
    "        state_row.append(\n",
    "            row_df['Natural Gas']\\\n",
    "            +   row_df['Other Gases']\n",
    "        )\n",
    "        state_row.append(\n",
    "            row_df['Nuclear']\n",
    "        )\n",
    "        state_row.append(\n",
    "            row_df['Wood and Wood Derived Fuels']\\\n",
    "            +   row_df['Other Biomass']\n",
    "        )\n",
    "        state_row.append(\n",
    "            row_df['Solar Thermal and Photovoltaic']\n",
    "        )\n",
    "        state_row.append(\n",
    "            row_df['Total']\n",
    "        )\n",
    "        state_row.append(\n",
    "            row_df['Wind']\n",
    "        )\n",
    "        all_states.append(state_row)"
   ]
  },
  {
   "cell_type": "code",
   "execution_count": 144,
   "metadata": {},
   "outputs": [
    {
     "name": "stdout",
     "output_type": "stream",
     "text": [
      "['NH', 1990, 5305696, 0, 1881087, 0, 4080691, 1137722, 0, 0, 12405196]\n"
     ]
    }
   ],
   "source": [
    "print(all_states[30])"
   ]
  },
  {
   "cell_type": "code",
   "execution_count": 145,
   "metadata": {},
   "outputs": [],
   "source": [
    "new_index = ['state'] + list(sample['state'])"
   ]
  },
  {
   "cell_type": "code",
   "execution_count": 146,
   "metadata": {
    "collapsed": true
   },
   "outputs": [],
   "source": [
    "new_index = sample.index"
   ]
  },
  {
   "cell_type": "code",
   "execution_count": 147,
   "metadata": {},
   "outputs": [
    {
     "data": {
      "text/plain": [
       "Index(['state', 'year', 'coal', 'geothermal', 'hydroelectric', 'natural_gas',\n",
       "       'nuclear', 'biomass', 'solar', 'total', 'wind'],\n",
       "      dtype='object', name=0)"
      ]
     },
     "execution_count": 147,
     "metadata": {},
     "output_type": "execute_result"
    }
   ],
   "source": [
    "new_index"
   ]
  },
  {
   "cell_type": "code",
   "execution_count": 148,
   "metadata": {},
   "outputs": [],
   "source": [
    "for i in all_states:\n",
    "    open('data/{}_{}.csv'.format(i[1], i[0]), 'w')\\\n",
    "        .write(','.join([str(x) for x in new_index]) \n",
    "               + '\\n' \n",
    "               + ','.join([str(x) for x in i]))\n",
    "#     pd.Series(data= i, index= new_index)\\\n",
    "#         .to_csv('data/{}_{}.csv'.format(i[1], i[0]))"
   ]
  },
  {
   "cell_type": "code",
   "execution_count": null,
   "metadata": {
    "collapsed": true
   },
   "outputs": [],
   "source": []
  }
 ],
 "metadata": {
  "kernelspec": {
   "display_name": "Python 3",
   "language": "python",
   "name": "python3"
  },
  "language_info": {
   "codemirror_mode": {
    "name": "ipython",
    "version": 3
   },
   "file_extension": ".py",
   "mimetype": "text/x-python",
   "name": "python",
   "nbconvert_exporter": "python",
   "pygments_lexer": "ipython3",
   "version": "3.6.1"
  }
 },
 "nbformat": 4,
 "nbformat_minor": 2
}
